{
 "cells": [
  {
   "cell_type": "code",
   "execution_count": null,
   "metadata": {},
   "outputs": [],
   "source": [
    "import pandas as pd\n",
    "import matplotlib.pyplot as plt\n",
    "from matplotlib.backends.backend_pdf import PdfPages\n"
   ]
  },
  {
   "cell_type": "code",
   "execution_count": null,
   "metadata": {},
   "outputs": [],
   "source": [
    "from os import environ\n",
    "from sqlalchemy import create_engine\n",
    "\n",
    "%load_ext dotenv\n",
    "%dotenv\n",
    "\n",
    "POSTGRES_ADDRESS = environ['DB_HOST']\n",
    "POSTGRES_PORT = environ['DB_PORT']\n",
    "POSTGRES_USERNAME = environ['DB_USER']\n",
    "POSTGRES_PASSWORD = environ['DB_PASSWORD']\n",
    "POSTGRES_DBNAME = environ['DB_NAME']\n",
    "\n",
    "postgres_str = ('postgresql://{username}:{password}@{ipaddress}:{port}/{dbname}'\n",
    "                .format(username=POSTGRES_USERNAME,\n",
    "                        password=POSTGRES_PASSWORD,\n",
    "                        ipaddress=POSTGRES_ADDRESS,\n",
    "                        port=POSTGRES_PORT,\n",
    "                        dbname=POSTGRES_DBNAME))\n",
    "\n",
    "connection = create_engine(postgres_str)\n"
   ]
  },
  {
   "cell_type": "code",
   "execution_count": null,
   "metadata": {},
   "outputs": [],
   "source": [
    "checkins = pd.read_sql_query(\n",
    "    '''SELECT * FROM checkins;''',\n",
    "    connection,\n",
    ")\n",
    "\n",
    "reservations = pd.read_sql_query(\n",
    "    '''SELECT * FROM reservations;''',\n",
    "    connection,\n",
    ")\n",
    "\n",
    "users = pd.read_sql_query(\n",
    "    '''SELECT * FROM users WHERE role = 'user' ;''',\n",
    "    connection,\n",
    ")\n"
   ]
  },
  {
   "cell_type": "code",
   "execution_count": null,
   "metadata": {},
   "outputs": [],
   "source": [
    "reservations_x_checkin = pd.merge(\n",
    "    reservations,\n",
    "    checkins,\n",
    "    how='inner',\n",
    "    left_on=['user_id', 'reservation_date'],\n",
    "    right_on=['user_id', 'checkin_date'],\n",
    ")\n"
   ]
  },
  {
   "cell_type": "code",
   "execution_count": null,
   "metadata": {},
   "outputs": [],
   "source": [
    "def get_frequency(user):\n",
    "    reservations_made = reservations['user_id'][reservations['user_id'] == user.id].count(\n",
    "    )\n",
    "    reservations_with_checkins = reservations_x_checkin['user_id'][reservations_x_checkin['user_id'] == user.id].count(\n",
    "    )\n",
    "\n",
    "    return round((reservations_with_checkins / reservations_made) * 100, 2)\n",
    "\n",
    "\n",
    "users['frequency'] = users.apply(lambda row: get_frequency(row), axis=1)\n"
   ]
  },
  {
   "cell_type": "code",
   "execution_count": null,
   "metadata": {},
   "outputs": [],
   "source": [
    "output_users = users[['first_name', 'last_name',\n",
    "                      'email', 'frequency']].sort_values('frequency')\n",
    "\n",
    "figure, ax = plt.subplots(figsize=(12, 12))\n",
    "ax.axis('tight')\n",
    "ax.axis('off')\n",
    "table = ax.table(cellText=output_users.values,\n",
    "                 colLabels=output_users.columns, loc='center')\n",
    "\n",
    "pp = PdfPages(\"output.pdf\")\n",
    "pp.savefig(figure, bbox_inches='tight')\n",
    "pp.close()\n"
   ]
  }
 ],
 "metadata": {
  "interpreter": {
   "hash": "e7370f93d1d0cde622a1f8e1c04877d8463912d04d973331ad4851f04de6915a"
  },
  "kernelspec": {
   "display_name": "Python 3.10.0 64-bit",
   "language": "python",
   "name": "python3"
  },
  "language_info": {
   "codemirror_mode": {
    "name": "ipython",
    "version": 3
   },
   "file_extension": ".py",
   "mimetype": "text/x-python",
   "name": "python",
   "nbconvert_exporter": "python",
   "pygments_lexer": "ipython3",
   "version": "3.10.0"
  },
  "orig_nbformat": 4
 },
 "nbformat": 4,
 "nbformat_minor": 2
}
